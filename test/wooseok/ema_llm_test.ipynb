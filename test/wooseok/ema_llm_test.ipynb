{
 "cells": [
  {
   "cell_type": "markdown",
   "id": "3e4dad4b",
   "metadata": {},
   "source": [
    "# 문제 생성 Agent 시연 성공"
   ]
  },
  {
   "cell_type": "code",
   "execution_count": null,
   "id": "b59944dd",
   "metadata": {},
   "outputs": [
    {
     "ename": "SyntaxError",
     "evalue": "invalid syntax. Perhaps you forgot a comma? (103195955.py, line 8)",
     "output_type": "error",
     "traceback": [
      "  \u001b[36mCell\u001b[39m\u001b[36m \u001b[39m\u001b[32mIn[1]\u001b[39m\u001b[32m, line 8\u001b[39m\n\u001b[31m    \u001b[39m\u001b[31mResponseSchema(name=\"choice1\",   description=\"보기 5개 중 1번\")\u001b[39m\n    ^\n\u001b[31mSyntaxError\u001b[39m\u001b[31m:\u001b[39m invalid syntax. Perhaps you forgot a comma?\n"
     ]
    }
   ],
   "source": [
    "from langchain.output_parsers import StructuredOutputParser, ResponseSchema\n",
    "from langchain_core.prompts import PromptTemplate\n",
    "from langchain_openai import ChatOpenAI\n",
    "\n",
    "# 1️⃣ 출력 스키마 정의\n",
    "schemas = [\n",
    "    ResponseSchema(name=\"question\", description=\"한글 문제\"),\n",
    "    ResponseSchema(name=\"choice1\",   description=\"보기 5개 중 1번\"),\n",
    "    ResponseSchema(name=\"choice2\",   description=\"보기 5개 중 2번\"),\n",
    "    ResponseSchema(name=\"choice3\",   description=\"보기 5개 중 3번\"),\n",
    "    ResponseSchema(name=\"choice4\",   description=\"보기 5개 중 4번\"),\n",
    "    ResponseSchema(name=\"choice5\",   description=\"보기 5개 중 5번\")    \n",
    "]\n",
    "parser = StructuredOutputParser.from_response_schemas(schemas)\n",
    "fmt_instructions = parser.get_format_instructions()   # {\"question\": ..., \"choice\": ...}\n",
    "\n",
    "# 2️⃣ 프롬프트\n",
    "template = \"\"\"\n",
    "너는 고등학교 미적분 교재 집필진이다.\n",
    "\n",
    "◆ 주제\n",
    "{topics}\n",
    "\n",
    "◆ 범위\n",
    "{range}\n",
    "\n",
    "◆ 범위 내용 요약 설명\n",
    "{summarized}\n",
    "\n",
    "◆ 난이도\n",
    "{difficulty}\n",
    "\n",
    "◆ 문제 예시\n",
    "{quiz_examples}\n",
    "\n",
    "---\n",
    "아래 지시를 **반드시** 지켜라:\n",
    "{format_instructions}\n",
    "\"\"\"\n",
    "\n",
    "prompt = PromptTemplate.from_template(\n",
    "    template,\n",
    "    partial_variables={\"format_instructions\": fmt_instructions}\n",
    ")\n",
    "\n",
    "# 3️⃣ LLM (JSON 응답 강제)\n",
    "llm = ChatOpenAI(\n",
    "    model=\"gpt-3.5-turbo-0125\",\n",
    "    temperature=0,\n",
    "    response_format={\"type\": \"json_object\"}  # ← JSON 외 형식 차단\n",
    ")\n",
    "\n",
    "chain = prompt | llm | parser\n",
    "\n",
    "result = chain.invoke({\n",
    "    \"topics\": \"함수의 극한 확인문제\",\n",
    "    \"range\": \"2.2 The Limit of Functions\",\n",
    "    \"summarized\": \"극한의 정의, 한쪽·무한 극한, 수직 점근선\",\n",
    "    \"difficulty\": \"풀이 5줄 이내\",\n",
    "    \"quiz_examples\": \"(예시 문제)\"\n",
    "})\n",
    "\n",
    "print(result)\n",
    "# {'question': '...', 'choice': ['A. ...', 'B. ...', ...]}\n"
   ]
  },
  {
   "cell_type": "code",
   "execution_count": null,
   "id": "6073e02f",
   "metadata": {},
   "outputs": [],
   "source": [
    "print(\"test\")"
   ]
  }
 ],
 "metadata": {
  "kernelspec": {
   "display_name": "ema_ai",
   "language": "python",
   "name": "python3"
  },
  "language_info": {
   "codemirror_mode": {
    "name": "ipython",
    "version": 3
   },
   "file_extension": ".py",
   "mimetype": "text/x-python",
   "name": "python",
   "nbconvert_exporter": "python",
   "pygments_lexer": "ipython3",
   "version": "3.11.11"
  }
 },
 "nbformat": 4,
 "nbformat_minor": 5
}
