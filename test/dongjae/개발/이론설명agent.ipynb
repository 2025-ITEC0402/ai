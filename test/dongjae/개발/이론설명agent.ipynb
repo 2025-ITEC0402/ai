{
 "cells": [
  {
   "metadata": {
    "ExecuteTime": {
     "end_time": "2025-05-05T08:52:46.385066Z",
     "start_time": "2025-05-05T08:52:46.357309Z"
    }
   },
   "cell_type": "code",
   "source": [
    "# API 키를 환경변수로 관리하기 위한 설정 파일\n",
    "from dotenv import load_dotenv\n",
    "\n",
    "# API 키 정보 로드\n",
    "load_dotenv()"
   ],
   "id": "a894c89e0bff1c97",
   "outputs": [
    {
     "data": {
      "text/plain": [
       "True"
      ]
     },
     "execution_count": 1,
     "metadata": {},
     "output_type": "execute_result"
    }
   ],
   "execution_count": 1
  },
  {
   "metadata": {
    "ExecuteTime": {
     "end_time": "2025-05-05T08:58:20.753789Z",
     "start_time": "2025-05-05T08:58:18.820088Z"
    }
   },
   "cell_type": "code",
   "source": [
    "from langchain_text_splitters import RecursiveCharacterTextSplitter\n",
    "from langchain_community.document_loaders import PyMuPDFLoader\n",
    "from langchain_community.vectorstores import FAISS\n",
    "from langchain_core.output_parsers import StrOutputParser\n",
    "from langchain_core.runnables import RunnablePassthrough\n",
    "from langchain_core.prompts import PromptTemplate\n",
    "from langchain_google_genai import ChatGoogleGenerativeAI, GoogleGenerativeAIEmbeddings"
   ],
   "id": "b33122af288ab639",
   "outputs": [],
   "execution_count": 7
  },
  {
   "metadata": {
    "ExecuteTime": {
     "end_time": "2025-05-05T09:01:24.714754Z",
     "start_time": "2025-05-05T09:01:24.471509Z"
    }
   },
   "cell_type": "code",
   "source": [
    "# 단계 1: 문서 로드(Load Documents)\n",
    "loader = PyMuPDFLoader(\"calculus50.pdf\")\n",
    "docs = loader.load()\n",
    "print(f\"문서의 페이지수: {len(docs)}\")"
   ],
   "id": "c2fe58c2e6ce3798",
   "outputs": [
    {
     "name": "stdout",
     "output_type": "stream",
     "text": [
      "문서의 페이지수: 50\n"
     ]
    }
   ],
   "execution_count": 10
  },
  {
   "metadata": {
    "ExecuteTime": {
     "end_time": "2025-05-05T09:01:26.784476Z",
     "start_time": "2025-05-05T09:01:26.778325Z"
    }
   },
   "cell_type": "code",
   "source": "print(docs[10].page_content)",
   "id": "afff8b0165281",
   "outputs": [
    {
     "name": "stdout",
     "output_type": "stream",
     "text": [
      "Contents\t\n",
      "ix\n",
      "\t\n",
      "15.6\t Triple Integrals  1029\n",
      "\t\n",
      "\t\n",
      " \n",
      "Discovery Project  •  Volumes of Hyperspheres  1040\n",
      "\t\n",
      "15.7\t Triple Integrals in Cylindrical Coordinates  1040\n",
      "\t\n",
      "\t\n",
      " \n",
      "Discovery Project  •  The Intersection of Three Cylinders   1044\n",
      "\t\n",
      "15.8\t Triple Integrals in Spherical Coordinates  1045\n",
      "\t\n",
      "\t\n",
      " \n",
      "Applied Project  •  Roller Derby  1052\n",
      "\t\n",
      "15.9\t Change of Variables in Multiple Integrals  1052\n",
      "\t\n",
      "\t\n",
      "Review  1061\n",
      "\t\n",
      "Problems Plus  1065\n",
      "16\n",
      "16\n",
      "\t\n",
      "16.1\t\n",
      "Vector Fields  1068\n",
      "\t\n",
      "16.2\t\n",
      "Line Integrals  1075\n",
      "\t\n",
      "16.3\t\n",
      "The Fundamental Theorem for Line Integrals  1087\n",
      "\t\n",
      "16.4\t\n",
      "Green’s Theorem  1096\n",
      "\t\n",
      "16.5\t\n",
      "Curl and Divergence  1103\n",
      "\t\n",
      "16.6\t\n",
      "Parametric Surfaces and Their Areas  1111\n",
      "\t\n",
      "16.7\t\n",
      "Surface Integrals  1122\n",
      "\t\n",
      "16.8\t\n",
      "Stokes’ Theorem  1134\n",
      "\t\n",
      "\t\n",
      " \n",
      "Writing Project  •  Three Men and Two Theorems  1140\n",
      "\t\n",
      "16.9\t\n",
      "The Divergence Theorem  1141\n",
      "\t\n",
      "16.10\t Summary  1147\n",
      "\t\n",
      "\t\n",
      "Review  1148\n",
      "\t\n",
      "Problems Plus  1151\n",
      "17\n",
      "17\n",
      "\t\n",
      "17.1\t\n",
      "Second-Order Linear Equations  1154\n",
      "\t\n",
      "17.2\t\n",
      "Nonhomogeneous Linear Equations  1160\n",
      "\t\n",
      "17.3\t\n",
      "Applications of Second-Order Differential Equations  1168\n",
      "\t\n",
      "17.4\t\n",
      "Series Solutions  1176\n",
      "\t\n",
      "\t\n",
      "Review  1181\n",
      "Copyright 2016 Cengage Learning. All Rights Reserved. May not be copied, scanned, or duplicated, in whole or in part. Due to electronic rights, some third party content may be suppressed from the eBook and/or eChapter(s). \n",
      "Editorial review has deemed that any suppressed content does not materially affect the overall learning experience. Cengage Learning reserves the right to remove additional content at any time if subsequent rights restrictions require it.\n"
     ]
    }
   ],
   "execution_count": 11
  },
  {
   "metadata": {
    "ExecuteTime": {
     "end_time": "2025-05-05T09:01:31.036510Z",
     "start_time": "2025-05-05T09:01:31.029898Z"
    }
   },
   "cell_type": "code",
   "source": "docs[10].__dict__",
   "id": "d8087212ec89c9b1",
   "outputs": [
    {
     "data": {
      "text/plain": [
       "{'id': None,\n",
       " 'metadata': {'producer': 'iLovePDF',\n",
       "  'creator': '',\n",
       "  'creationdate': '',\n",
       "  'source': 'calculus50.pdf',\n",
       "  'file_path': 'calculus50.pdf',\n",
       "  'total_pages': 50,\n",
       "  'format': 'PDF 1.7',\n",
       "  'title': '',\n",
       "  'author': '',\n",
       "  'subject': '',\n",
       "  'keywords': '',\n",
       "  'moddate': '2025-05-01T06:34:31+00:00',\n",
       "  'trapped': '',\n",
       "  'modDate': 'D:20250501063431Z',\n",
       "  'creationDate': '',\n",
       "  'page': 10},\n",
       " 'page_content': 'Contents\\t\\nix\\n\\t\\n15.6\\t Triple Integrals\\u2002 1029\\n\\t\\n\\t\\n\\u2003\\nDiscovery Project\\u2002 •\\u2002 Volumes of Hyperspheres\\u2002 1040\\n\\t\\n15.7\\t Triple Integrals in Cylindrical Coordinates\\u2002 1040\\n\\t\\n\\t\\n\\u2003\\nDiscovery Project\\u2002 •\\u2002 The Intersection of Three Cylinders \\u2002 1044\\n\\t\\n15.8\\t Triple Integrals in Spherical Coordinates\\u2002 1045\\n\\t\\n\\t\\n\\u2003\\nApplied Project\\u2002 •\\u2002 Roller Derby\\u2002 1052\\n\\t\\n15.9\\t Change of Variables in Multiple Integrals\\u2002 1052\\n\\t\\n\\t\\nReview\\u2002 1061\\n\\t\\nProblems Plus\\u2002 1065\\n16\\n16\\n\\t\\n16.1\\t\\nVector Fields\\u2002 1068\\n\\t\\n16.2\\t\\nLine Integrals\\u2002 1075\\n\\t\\n16.3\\t\\nThe Fundamental Theorem for Line Integrals\\u2002 1087\\n\\t\\n16.4\\t\\nGreen’s Theorem\\u2002 1096\\n\\t\\n16.5\\t\\nCurl and Divergence\\u2002 1103\\n\\t\\n16.6\\t\\nParametric Surfaces and Their Areas\\u2002 1111\\n\\t\\n16.7\\t\\nSurface Integrals\\u2002 1122\\n\\t\\n16.8\\t\\nStokes’ Theorem\\u2002 1134\\n\\t\\n\\t\\n\\u2003\\nWriting Project\\u2002 •\\u2002 Three Men and Two Theorems\\u2002 1140\\n\\t\\n16.9\\t\\nThe Divergence Theorem\\u2002 1141\\n\\t\\n16.10\\t Summary\\u2002 1147\\n\\t\\n\\t\\nReview\\u2002 1148\\n\\t\\nProblems Plus\\u2002 1151\\n17\\n17\\n\\t\\n17.1\\t\\nSecond-Order Linear Equations\\u2002 1154\\n\\t\\n17.2\\t\\nNonhomogeneous Linear Equations\\u2002 1160\\n\\t\\n17.3\\t\\nApplications of Second-Order Differential Equations\\u2002 1168\\n\\t\\n17.4\\t\\nSeries Solutions\\u2002 1176\\n\\t\\n\\t\\nReview\\u2002 1181\\nCopyright 2016 Cengage Learning. All Rights Reserved. May not be copied, scanned, or duplicated, in whole or in part. Due to electronic rights, some third party content may be suppressed from the eBook and/or eChapter(s). \\nEditorial review has deemed that any suppressed content does not materially affect the overall learning experience. Cengage Learning reserves the right to remove additional content at any time if subsequent rights restrictions require it.',\n",
       " 'type': 'Document'}"
      ]
     },
     "execution_count": 12,
     "metadata": {},
     "output_type": "execute_result"
    }
   ],
   "execution_count": 12
  },
  {
   "metadata": {
    "ExecuteTime": {
     "end_time": "2025-05-05T09:01:33.224484Z",
     "start_time": "2025-05-05T09:01:33.207740Z"
    }
   },
   "cell_type": "code",
   "source": [
    "# 단계 2: 문서 분할(Split Documents)\n",
    "text_splitter = RecursiveCharacterTextSplitter(chunk_size=500, chunk_overlap=50)\n",
    "split_documents = text_splitter.split_documents(docs)\n",
    "print(f\"분할된 청크의수: {len(split_documents)}\")"
   ],
   "id": "abc859e775073878",
   "outputs": [
    {
     "name": "stdout",
     "output_type": "stream",
     "text": [
      "분할된 청크의수: 316\n"
     ]
    }
   ],
   "execution_count": 13
  },
  {
   "metadata": {
    "ExecuteTime": {
     "end_time": "2025-05-05T09:31:55.453896Z",
     "start_time": "2025-05-05T09:31:55.441731Z"
    }
   },
   "cell_type": "code",
   "source": [
    "embeddings = GoogleGenerativeAIEmbeddings(\n",
    "    model=\"models/text-embedding-004\"\n",
    ") "
   ],
   "id": "b2c762f8938af46c",
   "outputs": [],
   "execution_count": 25
  },
  {
   "metadata": {
    "ExecuteTime": {
     "end_time": "2025-05-05T09:32:24.583374Z",
     "start_time": "2025-05-05T09:31:57.023731Z"
    }
   },
   "cell_type": "code",
   "source": [
    "# 단계 4: DB 생성(Create DB) 및 저장\n",
    "# 벡터스토어를 생성합니다.\n",
    "vectorstore = FAISS.from_documents(documents=split_documents, embedding=embeddings)"
   ],
   "id": "6f0671995ee81568",
   "outputs": [],
   "execution_count": 26
  },
  {
   "metadata": {
    "ExecuteTime": {
     "end_time": "2025-05-05T09:33:32.128850Z",
     "start_time": "2025-05-05T09:33:31.808808Z"
    }
   },
   "cell_type": "code",
   "source": [
    "for doc in vectorstore.similarity_search(\"The preprogrammed functions\"):\n",
    "    print(doc.page_content)"
   ],
   "id": "7618c53ffb1bb935",
   "outputs": [
    {
     "name": "stdout",
     "output_type": "stream",
     "text": [
      "Section 1.1    Four Ways to Represent a Function\t\n",
      "11\n",
      "It’s helpful to think of a function as a machine (see Figure 2). If x is in the domain of \n",
      "the function f, then when x enters the machine, it’s accepted as an input and the machine \n",
      "produces an output fsxd according to the rule of the function. Thus we can think of the \n",
      "domain as the set of all possible inputs and the range as the set of all possible outputs.\n",
      "The preprogrammed functions in a calculator are good examples of a function as a\n",
      "machine. For example, the square root key on your calculator computes such a function. \n",
      "You press the key labeled s   (or sx ) and enter the input x. If x , 0, then x is not in the \n",
      "domain of this function; that is, x is not an acceptable input, and the calculator will indi­\n",
      "cate an error. If x > 0, then an approximation to sx  will appear in the display. Thus the \n",
      "sx  key on your calculator is not quite the same as the exact mathematical function f \n",
      "defined by fsxd −sx .\n",
      "iii\n",
      "Preface \n",
      "xi\n",
      "To the Student \n",
      "xxiii\n",
      "Calculators, Computers, and other graphing devices \n",
      "xxiv\n",
      "Diagnostic tests \n",
      "xxvi\n",
      "A Preview of Calculus  1\n",
      "11\n",
      "\t\n",
      "1.1\t\n",
      "Four Ways to Represent a Function  10\n",
      "\t\n",
      "1.2\t\n",
      "Mathematical Models: A Catalog of Essential Functions  23\n",
      "\t\n",
      "1.3\t\n",
      "New Functions from Old Functions  36\n",
      "\t\n",
      "1.4\t\n",
      "Exponential Functions  45\n",
      "\t\n",
      "1.5\t\n",
      "Inverse Functions and Logarithms  55\n",
      "\t\n",
      "\t\n",
      "Review  68\n",
      "\t\n",
      "Principles of Problem Solving  71\n",
      "22\n",
      "\t\n",
      "2.1\t\n",
      "The Tangent and Velocity Problems  78\n",
      "\t\n",
      "2.2\n",
      "pares the way for calculus by discussing the basic ideas concerning functions, their graphs, \n",
      "and ways of transforming and combining them. We stress that a function can be represented in \n",
      "different ways: by an equation, in a table, by a graph, or in words. We look at the main types of \n",
      "functions that occur in calculus and describe the process of using these functions as mathematical \n",
      "models of real-world phenomena.\n",
      "11\n",
      "Pictura Collectus/Alamy\n",
      "Seismological Society of America\n",
      "0\n",
      "1000\n",
      "_1000\n",
      "2000\n"
     ]
    }
   ],
   "execution_count": 28
  },
  {
   "metadata": {
    "ExecuteTime": {
     "end_time": "2025-05-05T09:34:04.159335Z",
     "start_time": "2025-05-05T09:34:04.150649Z"
    }
   },
   "cell_type": "code",
   "source": [
    "# 단계 5: 검색기(Retriever) 생성\n",
    "# 문서에 포함되어 있는 정보를 검색하고 생성합니다.\n",
    "retriever = vectorstore.as_retriever()"
   ],
   "id": "9ea0b7d4ccaf3af0",
   "outputs": [],
   "execution_count": 29
  },
  {
   "metadata": {
    "ExecuteTime": {
     "end_time": "2025-05-05T09:34:36.222316Z",
     "start_time": "2025-05-05T09:34:35.867926Z"
    }
   },
   "cell_type": "code",
   "source": [
    "# 검색기에 쿼리를 날려 검색된 chunk 결과를 확인합니다.\n",
    "retriever.invoke(\"what is preprogrammed functions?\")"
   ],
   "id": "1c6c40e5a7624215",
   "outputs": [
    {
     "data": {
      "text/plain": [
       "[Document(id='139fca1a-30bb-46aa-8190-b1158fc5b48b', metadata={'producer': 'iLovePDF', 'creator': '', 'creationdate': '', 'source': 'calculus50.pdf', 'file_path': 'calculus50.pdf', 'total_pages': 50, 'format': 'PDF 1.7', 'title': '', 'author': '', 'subject': '', 'keywords': '', 'moddate': '2025-05-01T06:34:31+00:00', 'trapped': '', 'modDate': 'D:20250501063431Z', 'creationDate': '', 'page': 42}, page_content='Section\\u20041.1\\u2002 \\u2002 Four Ways to Represent a Function\\t\\n11\\nIt’s helpful to think of a function as a machine (see Figure 2). If x is in the domain of \\nthe function f, then when x enters the machine, it’s accepted as an input and the machine \\nproduces an output fsxd according to the rule of the function. Thus we can think of the \\ndomain as the set of all possible inputs and the range as the set of all possible outputs.\\nThe preprogrammed functions in a calculator are good examples of a function as a'),\n",
       " Document(id='a044932c-5a2b-4899-b027-a8d1f1b9a9ed', metadata={'producer': 'iLovePDF', 'creator': '', 'creationdate': '', 'source': 'calculus50.pdf', 'file_path': 'calculus50.pdf', 'total_pages': 50, 'format': 'PDF 1.7', 'title': '', 'author': '', 'subject': '', 'keywords': '', 'moddate': '2025-05-01T06:34:31+00:00', 'trapped': '', 'modDate': 'D:20250501063431Z', 'creationDate': '', 'page': 42}, page_content='machine. For example, the square root key on your calculator computes such a function. \\nYou press the key labeled s   (or sx ) and enter the input x. If x , 0, then x is not in the \\ndomain of this function; that is, x is not an acceptable input, and the calculator will indi\\xad\\ncate an error. If x > 0, then an approximation to sx  will appear in the display. Thus the \\nsx  key on your calculator is not quite the same as the exact mathematical function f \\ndefined by fsxd −sx .'),\n",
       " Document(id='cba8ccc5-274a-4906-9470-0c896020b9d3', metadata={'producer': 'iLovePDF', 'creator': '', 'creationdate': '', 'source': 'calculus50.pdf', 'file_path': 'calculus50.pdf', 'total_pages': 50, 'format': 'PDF 1.7', 'title': '', 'author': '', 'subject': '', 'keywords': '', 'moddate': '2025-05-01T06:34:31+00:00', 'trapped': '', 'modDate': 'D:20250501063431Z', 'creationDate': '', 'page': 40}, page_content='pares the way for calculus by discussing the basic ideas concerning functions, their graphs, \\nand ways of transforming and combining them. We stress that a function can be represented in \\ndifferent ways: by an equation, in a table, by a graph, or in words. We look at the main types of \\nfunctions that occur in calculus and describe the process of using these functions as mathematical \\nmodels of real-world phenomena.\\n11\\nPictura Collectus/Alamy\\nSeismological Society of America\\n0\\n1000\\n_1000\\n2000'),\n",
       " Document(id='d93e1b72-3a2c-4002-8a22-899a69d21ad2', metadata={'producer': 'iLovePDF', 'creator': '', 'creationdate': '', 'source': 'calculus50.pdf', 'file_path': 'calculus50.pdf', 'total_pages': 50, 'format': 'PDF 1.7', 'title': '', 'author': '', 'subject': '', 'keywords': '', 'moddate': '2025-05-01T06:34:31+00:00', 'trapped': '', 'modDate': 'D:20250501063431Z', 'creationDate': '', 'page': 41}, page_content='is a function of the first number.\\nA function f is a rule that assigns to each element x in a set D exactly one \\nelement, called fsxd, in a set E.\\nWe usually consider functions for which the sets D and E are sets of real numbers. \\nThe set D is called the domain of the function. The number fsxd is the value of f at x \\nand is read “f of x.” The range of f is the set of all possible values of fsxd as x varies \\nthroughout the domain. A symbol that represents an arbitrary number in the domain of a')]"
      ]
     },
     "execution_count": 30,
     "metadata": {},
     "output_type": "execute_result"
    }
   ],
   "execution_count": 30
  },
  {
   "metadata": {
    "ExecuteTime": {
     "end_time": "2025-05-05T09:41:15.263422Z",
     "start_time": "2025-05-05T09:41:15.249611Z"
    }
   },
   "cell_type": "code",
   "source": [
    "# 단계 6: 프롬프트 생성(Create Prompt)\n",
    "# 프롬프트를 생성합니다.\n",
    "TheoryExplanationPrompt = PromptTemplate.from_template(\n",
    "    \"\"\"You are an engineering mathematics theory explanation assistant.\n",
    "Use the following retrieved context to answer the user’s question.\n",
    "Answer in Korean.\n",
    "If you don’t know the answer, simply reply “I don’t know.”\n",
    "Always include the following three elements in your response:\n",
    "  1) Definition\n",
    "  2) Key formulas (in LaTeX)\n",
    "  3) A brief example\n",
    "\n",
    "#Context:\n",
    "{context}\n",
    "\n",
    "#Question:\n",
    "{question}\n",
    "\n",
    "#Answer:\"\"\"\n",
    ")"
   ],
   "id": "12148704983541ae",
   "outputs": [],
   "execution_count": 36
  },
  {
   "metadata": {
    "ExecuteTime": {
     "end_time": "2025-05-05T09:41:17.616358Z",
     "start_time": "2025-05-05T09:41:17.598554Z"
    }
   },
   "cell_type": "code",
   "source": [
    "llm = ChatGoogleGenerativeAI(\n",
    "    model=\"models/gemini-1.5-pro\",  # 또는 사용 가능한 Gemini 모델 아이디(ex: \"models/gemini-2.0-flex\")\n",
    "    temperature=0.0\n",
    ")"
   ],
   "id": "b712e77e45e90e25",
   "outputs": [],
   "execution_count": 37
  },
  {
   "metadata": {
    "ExecuteTime": {
     "end_time": "2025-05-05T09:41:19.178782Z",
     "start_time": "2025-05-05T09:41:19.165777Z"
    }
   },
   "cell_type": "code",
   "source": [
    "# 단계 8: 체인(Chain) 생성\n",
    "chain = (\n",
    "        {\"context\": retriever, \"question\": RunnablePassthrough()}\n",
    "        | TheoryExplanationPrompt\n",
    "        | llm\n",
    "        | StrOutputParser()\n",
    ")"
   ],
   "id": "e8b679527d424432",
   "outputs": [],
   "execution_count": 38
  },
  {
   "metadata": {
    "ExecuteTime": {
     "end_time": "2025-05-05T09:41:29.448039Z",
     "start_time": "2025-05-05T09:41:21.067431Z"
    }
   },
   "cell_type": "code",
   "source": [
    "# 체인 실행(Run Chain)\n",
    "# 문서에 대한 질의를 입력하고, 답변을 출력합니다.\n",
    "question = \"The preprogrammed functions에 대해서 알려줘\"\n",
    "response = chain.invoke(question)\n",
    "print(response)"
   ],
   "id": "b6ade70e5e8ac471",
   "outputs": [
    {
     "name": "stdout",
     "output_type": "stream",
     "text": [
      "계산기에 미리 프로그램된 함수는 함수를 이해하는 좋은 예시입니다.\n",
      "\n",
      "1. **정의:** 함수는 각 입력값에 대해 정확히 하나의 출력값을 할당하는 규칙입니다. 계산기에서 미리 프로그램된 함수는 특정 입력값을 받아 미리 정의된 연산을 수행하고 그 결과를 출력하는 내장 함수입니다.  입력값의 집합을 정의역, 출력값의 집합을 치역이라고 합니다.\n",
      "\n",
      "2. **주요 공식:** 함수는 일반적으로 $f(x) = y$ 와 같이 표현됩니다. 여기서 $x$는 입력값, $f$는 함수, $y$는 출력값입니다.  계산기의 제곱근 함수는 $f(x) = \\sqrt{x}$로 표현할 수 있습니다.\n",
      "\n",
      "3. **예시:** 계산기에서 제곱근 함수(√)를 생각해 봅시다.  입력값 9를 입력하면, 계산기는 $\\sqrt{9}=3$ 을 계산하여 출력값 3을 보여줍니다. 이 경우 입력값 9는 함수의 정의역에 속하고, 출력값 3은 함수의 치역에 속합니다. 만약 음수를 입력하면, 제곱근 함수는 실수 범위에서 정의되지 않으므로 에러가 발생합니다.  즉, 음수는 이 함수의 정의역에 속하지 않습니다.\n"
     ]
    }
   ],
   "execution_count": 39
  }
 ],
 "metadata": {
  "kernelspec": {
   "display_name": "Python (myenv)",
   "language": "python",
   "name": "myenv"
  },
  "language_info": {
   "codemirror_mode": {
    "name": "ipython",
    "version": 2
   },
   "file_extension": ".py",
   "mimetype": "text/x-python",
   "name": "python",
   "nbconvert_exporter": "python",
   "pygments_lexer": "ipython2",
   "version": "2.7.6"
  }
 },
 "nbformat": 4,
 "nbformat_minor": 5
}
