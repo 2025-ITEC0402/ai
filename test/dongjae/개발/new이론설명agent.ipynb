{
 "cells": [
  {
   "cell_type": "code",
   "id": "initial_id",
   "metadata": {
    "collapsed": true,
    "ExecuteTime": {
     "end_time": "2025-05-10T05:58:44.877041Z",
     "start_time": "2025-05-10T05:58:44.867928Z"
    }
   },
   "source": [
    "# API 키를 환경변수로 관리하기 위한 설정 파일\n",
    "from dotenv import load_dotenv\n",
    "import os\n",
    "\n",
    "from typing_extensions import override\n",
    "\n",
    "# API 키 정보 로드\n",
    "load_dotenv(override=True)\n",
    "print(\"🔍 PROJECT:\", os.getenv(\"GOOGLE_CLOUD_PROJECT\"))\n",
    "print(\"🔍 CREDENTIAL FILE:\", os.getenv(\"GOOGLE_APPLICATION_CREDENTIALS\"))\n",
    "# ✅ 추가: vertexai 초기화 (프로젝트 강제 적용)"
   ],
   "outputs": [
    {
     "name": "stdout",
     "output_type": "stream",
     "text": [
      "🔍 PROJECT: knu-ema\n",
      "🔍 CREDENTIAL FILE: C:/Users/SAMSUNG/AppData/Roaming/gcloud/knu-ema-af3cd6fa4532.json\n"
     ]
    }
   ],
   "execution_count": 45
  },
  {
   "metadata": {
    "ExecuteTime": {
     "end_time": "2025-05-10T06:00:33.872162Z",
     "start_time": "2025-05-10T05:58:47.210150Z"
    }
   },
   "cell_type": "code",
   "source": [
    "from langchain.text_splitter import RecursiveCharacterTextSplitter\n",
    "from langchain_community.vectorstores import FAISS\n",
    "from langchain.document_loaders import PyPDFLoader\n",
    "\n",
    "# 1. PDF 파일 로드\n",
    "loader = PyPDFLoader(\"James Stewart - Calculus, Early Transcendentals, International Metric Edition-CENGAGE Learning (2016).pdf\")\n",
    "\n",
    "# 2. 텍스트 분할기 설정\n",
    "text_splitter = RecursiveCharacterTextSplitter(\n",
    "    chunk_size=1000,\n",
    "    chunk_overlap=150\n",
    ")\n",
    "\n",
    "# 3. 문서 로드 및 분할\n",
    "docs = loader.load()\n",
    "split_docs = text_splitter.split_documents(docs)\n"
   ],
   "id": "f7c94cdaa252e0e7",
   "outputs": [],
   "execution_count": 46
  },
  {
   "metadata": {
    "ExecuteTime": {
     "end_time": "2025-05-10T06:01:33.559126Z",
     "start_time": "2025-05-10T06:01:30.770974Z"
    }
   },
   "cell_type": "code",
   "source": [
    "# 4. 배치 임베딩용 래퍼 클래스 정의\n",
    "import time\n",
    "from typing import List, Sequence\n",
    "from langchain_google_genai import GoogleGenerativeAIEmbeddings\n",
    "\n",
    "class BatchedEmbeddings:\n",
    "    def __init__(self, base: GoogleGenerativeAIEmbeddings, batch_size: int = 16):\n",
    "        self.base = base\n",
    "        self.batch_size = batch_size\n",
    "\n",
    "    def __call__(self, text_or_texts):\n",
    "        # 인풋이 str 이면 embed_query, list 면 embed_documents 로 분기\n",
    "        if isinstance(text_or_texts, str):\n",
    "            return self.embed_query(text_or_texts)\n",
    "        return self.embed_documents(text_or_texts)\n",
    "\n",
    "    def embed_documents(self, texts: Sequence[str]) -> List[List[float]]:\n",
    "        all_embeddings: List[List[float]] = []\n",
    "        for i in range(0, len(texts), self.batch_size):\n",
    "            batch = texts[i : i + self.batch_size]\n",
    "            embs = self.base.embed_documents(batch)\n",
    "            all_embeddings.extend(embs)\n",
    "            if i + self.batch_size < len(texts):\n",
    "                print(\"sleep \", i)\n",
    "                time.sleep(32)\n",
    "\n",
    "        return all_embeddings\n",
    "\n",
    "    def embed_query(self, text: str) -> List[float]:\n",
    "        # Retriever 쿼리용에도 배치가 필요 없으니 바로 위임\n",
    "        return self.base.embed_query(text)\n"
   ],
   "id": "fb6ac75f361c4563",
   "outputs": [],
   "execution_count": 47
  },
  {
   "metadata": {
    "ExecuteTime": {
     "end_time": "2025-05-09T10:53:16.489187Z",
     "start_time": "2025-05-09T07:46:26.107540Z"
    }
   },
   "cell_type": "code",
   "source": [
    "# 5. Batched Embeddings 인스턴스 생성\n",
    "base_embeddings = GoogleGenerativeAIEmbeddings(\n",
    "    model=\"models/gemini-embedding-exp-03-07\"\n",
    ")\n",
    "embeddings = BatchedEmbeddings(\n",
    "    base=base_embeddings,\n",
    "    batch_size=16  # 필요에 따라 조절하세요\n",
    ")\n",
    "\n",
    "# 6. FAISS VectorStore 생성 (내부에서 batch 단위로 임베딩 처리)\n",
    "vectorstore = FAISS.from_documents(split_docs, embeddings)\n",
    "\n",
    "# 7. Retriever 생성 및 확인\n",
    "calculus_retriever = vectorstore.as_retriever()\n",
    "print(f\"총 청크 수: {len(split_docs)}\")\n",
    "print(f\"첫 청크 미리보기:\\n{split_docs[0].page_content[:300]}\")"
   ],
   "id": "101c0628656ad64a",
   "outputs": [
    {
     "name": "stdout",
     "output_type": "stream",
     "text": [
      "sleep  0\n",
      "sleep  16\n",
      "sleep  32\n",
      "sleep  48\n",
      "sleep  64\n",
      "sleep  80\n",
      "sleep  96\n",
      "sleep  112\n",
      "sleep  128\n",
      "sleep  144\n",
      "sleep  160\n",
      "sleep  176\n",
      "sleep  192\n",
      "sleep  208\n",
      "sleep  224\n",
      "sleep  240\n",
      "sleep  256\n",
      "sleep  272\n",
      "sleep  288\n",
      "sleep  304\n",
      "sleep  320\n",
      "sleep  336\n",
      "sleep  352\n",
      "sleep  368\n",
      "sleep  384\n",
      "sleep  400\n",
      "sleep  416\n",
      "sleep  432\n",
      "sleep  448\n",
      "sleep  464\n",
      "sleep  480\n",
      "sleep  496\n",
      "sleep  512\n",
      "sleep  528\n",
      "sleep  544\n",
      "sleep  560\n",
      "sleep  576\n",
      "sleep  592\n",
      "sleep  608\n",
      "sleep  624\n",
      "sleep  640\n",
      "sleep  656\n",
      "sleep  672\n",
      "sleep  688\n",
      "sleep  704\n",
      "sleep  720\n",
      "sleep  736\n",
      "sleep  752\n",
      "sleep  768\n",
      "sleep  784\n",
      "sleep  800\n",
      "sleep  816\n",
      "sleep  832\n",
      "sleep  848\n",
      "sleep  864\n",
      "sleep  880\n",
      "sleep  896\n",
      "sleep  912\n",
      "sleep  928\n",
      "sleep  944\n",
      "sleep  960\n",
      "sleep  976\n",
      "sleep  992\n",
      "sleep  1008\n",
      "sleep  1024\n",
      "sleep  1040\n",
      "sleep  1056\n",
      "sleep  1072\n",
      "sleep  1088\n",
      "sleep  1104\n",
      "sleep  1120\n",
      "sleep  1136\n",
      "sleep  1152\n",
      "sleep  1168\n",
      "sleep  1184\n",
      "sleep  1200\n",
      "sleep  1216\n",
      "sleep  1232\n",
      "sleep  1248\n",
      "sleep  1264\n",
      "sleep  1280\n",
      "sleep  1296\n",
      "sleep  1312\n",
      "sleep  1328\n",
      "sleep  1344\n",
      "sleep  1360\n",
      "sleep  1376\n",
      "sleep  1392\n",
      "sleep  1408\n",
      "sleep  1424\n",
      "sleep  1440\n",
      "sleep  1456\n",
      "sleep  1472\n",
      "sleep  1488\n",
      "sleep  1504\n",
      "sleep  1520\n",
      "sleep  1536\n",
      "sleep  1552\n",
      "sleep  1568\n",
      "sleep  1584\n",
      "sleep  1600\n",
      "sleep  1616\n",
      "sleep  1632\n",
      "sleep  1648\n",
      "sleep  1664\n",
      "sleep  1680\n",
      "sleep  1696\n",
      "sleep  1712\n",
      "sleep  1728\n",
      "sleep  1744\n",
      "sleep  1760\n",
      "sleep  1776\n",
      "sleep  1792\n",
      "sleep  1808\n",
      "sleep  1824\n",
      "sleep  1840\n",
      "sleep  1856\n",
      "sleep  1872\n",
      "sleep  1888\n",
      "sleep  1904\n",
      "sleep  1920\n",
      "sleep  1936\n",
      "sleep  1952\n",
      "sleep  1968\n",
      "sleep  1984\n",
      "sleep  2000\n",
      "sleep  2016\n",
      "sleep  2032\n",
      "sleep  2048\n",
      "sleep  2064\n",
      "sleep  2080\n",
      "sleep  2096\n",
      "sleep  2112\n",
      "sleep  2128\n",
      "sleep  2144\n",
      "sleep  2160\n",
      "sleep  2176\n",
      "sleep  2192\n",
      "sleep  2208\n",
      "sleep  2224\n",
      "sleep  2240\n",
      "sleep  2256\n",
      "sleep  2272\n",
      "sleep  2288\n",
      "sleep  2304\n",
      "sleep  2320\n",
      "sleep  2336\n",
      "sleep  2352\n",
      "sleep  2368\n",
      "sleep  2384\n",
      "sleep  2400\n",
      "sleep  2416\n",
      "sleep  2432\n",
      "sleep  2448\n",
      "sleep  2464\n",
      "sleep  2480\n",
      "sleep  2496\n",
      "sleep  2512\n",
      "sleep  2528\n",
      "sleep  2544\n",
      "sleep  2560\n",
      "sleep  2576\n",
      "sleep  2592\n",
      "sleep  2608\n",
      "sleep  2624\n",
      "sleep  2640\n",
      "sleep  2656\n",
      "sleep  2672\n",
      "sleep  2688\n",
      "sleep  2704\n",
      "sleep  2720\n",
      "sleep  2736\n",
      "sleep  2752\n",
      "sleep  2768\n",
      "sleep  2784\n",
      "sleep  2800\n",
      "sleep  2816\n",
      "sleep  2832\n",
      "sleep  2848\n",
      "sleep  2864\n",
      "sleep  2880\n",
      "sleep  2896\n",
      "sleep  2912\n",
      "sleep  2928\n",
      "sleep  2944\n",
      "sleep  2960\n",
      "sleep  2976\n",
      "sleep  2992\n",
      "sleep  3008\n",
      "sleep  3024\n",
      "sleep  3040\n",
      "sleep  3056\n",
      "sleep  3072\n",
      "sleep  3088\n",
      "sleep  3104\n",
      "sleep  3120\n",
      "sleep  3136\n",
      "sleep  3152\n",
      "sleep  3168\n",
      "sleep  3184\n",
      "sleep  3200\n",
      "sleep  3216\n",
      "sleep  3232\n",
      "sleep  3248\n",
      "sleep  3264\n",
      "sleep  3280\n",
      "sleep  3296\n",
      "sleep  3312\n",
      "sleep  3328\n",
      "sleep  3344\n",
      "sleep  3360\n",
      "sleep  3376\n",
      "sleep  3392\n",
      "sleep  3408\n",
      "sleep  3424\n",
      "sleep  3440\n",
      "sleep  3456\n",
      "sleep  3472\n",
      "sleep  3488\n",
      "sleep  3504\n",
      "sleep  3520\n",
      "sleep  3536\n",
      "sleep  3552\n",
      "sleep  3568\n",
      "sleep  3584\n",
      "sleep  3600\n",
      "sleep  3616\n",
      "sleep  3632\n",
      "sleep  3648\n",
      "sleep  3664\n",
      "sleep  3680\n",
      "sleep  3696\n",
      "sleep  3712\n",
      "sleep  3728\n",
      "sleep  3744\n",
      "sleep  3760\n",
      "sleep  3776\n",
      "sleep  3792\n",
      "sleep  3808\n",
      "sleep  3824\n",
      "sleep  3840\n",
      "sleep  3856\n",
      "sleep  3872\n",
      "sleep  3888\n",
      "sleep  3904\n",
      "sleep  3920\n",
      "sleep  3936\n",
      "sleep  3952\n",
      "sleep  3968\n",
      "sleep  3984\n",
      "sleep  4000\n",
      "sleep  4016\n",
      "sleep  4032\n",
      "sleep  4048\n",
      "sleep  4064\n",
      "sleep  4080\n",
      "sleep  4096\n",
      "sleep  4112\n",
      "sleep  4128\n",
      "sleep  4144\n",
      "sleep  4160\n",
      "sleep  4176\n",
      "sleep  4192\n",
      "sleep  4208\n",
      "sleep  4224\n",
      "sleep  4240\n",
      "sleep  4256\n",
      "sleep  4272\n",
      "sleep  4288\n",
      "sleep  4304\n",
      "sleep  4320\n",
      "sleep  4336\n",
      "sleep  4352\n",
      "sleep  4368\n",
      "sleep  4384\n",
      "sleep  4400\n",
      "sleep  4416\n",
      "sleep  4432\n",
      "sleep  4448\n",
      "sleep  4464\n",
      "sleep  4480\n",
      "sleep  4496\n",
      "sleep  4512\n",
      "sleep  4528\n",
      "sleep  4544\n",
      "sleep  4560\n",
      "sleep  4576\n",
      "sleep  4592\n",
      "sleep  4608\n",
      "sleep  4624\n",
      "sleep  4640\n",
      "sleep  4656\n",
      "sleep  4672\n",
      "sleep  4688\n",
      "sleep  4704\n",
      "sleep  4720\n",
      "sleep  4736\n",
      "sleep  4752\n",
      "sleep  4768\n",
      "sleep  4784\n",
      "sleep  4800\n",
      "sleep  4816\n",
      "sleep  4832\n",
      "sleep  4848\n",
      "sleep  4864\n",
      "sleep  4880\n",
      "sleep  4896\n",
      "sleep  4912\n",
      "sleep  4928\n",
      "sleep  4944\n",
      "sleep  4960\n",
      "sleep  4976\n",
      "sleep  4992\n",
      "sleep  5008\n"
     ]
    },
    {
     "name": "stderr",
     "output_type": "stream",
     "text": [
      "`embedding_function` is expected to be an Embeddings object, support for passing in a function will soon be removed.\n"
     ]
    },
    {
     "name": "stdout",
     "output_type": "stream",
     "text": [
      "총 청크 수: 5028\n",
      "첫 청크 미리보기:\n",
      "calculus\n",
      "Early Transc EndEnTals\n",
      "Eigh Th EdiTion\n",
      "mETric v Ersion\n",
      "Jam Es sTE war T\n",
      "McMaster University  \n",
      "and  \n",
      "University of toronto\n",
      "Australia • Brazil • Mexico • Singapore • United Kingdom • United States\n",
      "Copyright 2016 Cengage Learning. All Rights Reserved. May not be copied, scanned, or duplicated,\n"
     ]
    }
   ],
   "execution_count": 12
  },
  {
   "metadata": {},
   "cell_type": "code",
   "outputs": [],
   "execution_count": null,
   "source": "vectorstore.save_local(\"vectorstore\")",
   "id": "a37a8e1211c4226c"
  },
  {
   "metadata": {
    "ExecuteTime": {
     "end_time": "2025-05-10T06:23:19.725065Z",
     "start_time": "2025-05-10T06:23:19.652233Z"
    }
   },
   "cell_type": "code",
   "source": [
    "# 5. Batched Embeddings 인스턴스 생성\n",
    "base_embeddings = GoogleGenerativeAIEmbeddings(\n",
    "    model=\"models/gemini-embedding-exp-03-07\"\n",
    ")\n",
    "\n",
    "# 6. FAISS VectorStore 생성 (내부에서 batch 단위로 임베딩 처리)\n",
    "vectorstore = FAISS.load_local(\"vectorstore\", base_embeddings, allow_dangerous_deserialization=True)\n",
    "\n",
    "# 7. Retriever 생성 및 확인\n",
    "calculus_retriever = vectorstore.as_retriever()"
   ],
   "id": "9672e945485f6b4c",
   "outputs": [],
   "execution_count": 64
  },
  {
   "metadata": {
    "ExecuteTime": {
     "end_time": "2025-05-09T15:19:08.025893Z",
     "start_time": "2025-05-09T15:19:06.745431Z"
    }
   },
   "cell_type": "code",
   "source": "calculus_retriever.invoke(\"WHAT IS INTEGRAL\")",
   "id": "f897672121915571",
   "outputs": [
    {
     "data": {
      "text/plain": [
       "[Document(id='8f2d5f76-c7a3-4e4b-b3d4-509cf0add101', metadata={'producer': 'Pdftools SDK', 'creator': 'PyPDF', 'creationdate': '', 'moddate': '2025-05-01T06:05:37+00:00', 'source': 'James Stewart - Calculus, Early Transcendentals, International Metric Edition-CENGAGE Learning (2016).pdf', 'total_pages': 1421, 'page': 409, 'page_label': '410'}, page_content='we divide the interval fa, bg into n subintervals of equal width Dx−sb2adyn. \\nWe\\xa0let x0 s− ad, x1, x2, . . . , x n s−bd be the endpoints of these subintervals and we \\nlet x1*, x2*, . . . , x n* be any sample points in these subintervals, so xi* lies in the ith \\nsubinterval fxi21, xig. Then the definite integral of f from a to b is\\nyb\\na fsxddx−lim\\nn l ` on\\ni−1 fsxi*dDx\\n provided that this limit exists and gives the same value for all possible choices of sample points. If it does exist, we say that \\nf is integrable on fa, bg.\\nThe precise meaning of the limit that defines the integral is as follows:\\nFor every number « . 0 there is an integer N such that\\nZyb\\na fsxddx2on\\ni−1 fsxi*dDx Z, «\\nfor every integer n.N and for every choice of xi* in fxi21, xig.\\nNote 1  The symbol y was introduced by Leibniz and is called an integral sign. It \\nis an elongated S and was chosen because an integral is a limit of sums. In the notation 1\\x03'),\n",
       " Document(id='efb300a2-aa51-474e-9c43-557dac39015d', metadata={'producer': 'Pdftools SDK', 'creator': 'PyPDF', 'creationdate': '', 'moddate': '2025-05-01T06:05:37+00:00', 'source': 'James Stewart - Calculus, Early Transcendentals, International Metric Edition-CENGAGE Learning (2016).pdf', 'total_pages': 1421, 'page': 410, 'page_label': '411'}, page_content='SeCtION  5.2  The Definite Integral  379\\n yb\\na fsxddx, fsxd is called the integrand and a and b are called the limits of integration; \\na is the lower limit and b is the upper limit. For now, the symbol dx has no meaning by \\nitself; yb\\na fsxddx is all one symbol. The dx simply indicates that the independent vari  able \\nis x. The procedure of calculating an integral is called integration.\\nNote 2  The definite integral yb\\na fsxddx is a number; it does not depend on x. In fact, \\nwe could use any letter in place of x without changing the value of the integral:\\nyb\\na fsxddx−yb\\na fstddt−yb\\na fsrddr\\nNote 3  The sum\\non\\ni−1 fsxi*dDx\\nthat occurs in Definition 2 is called a Riemann sum after the German mathematician \\nBernhard Riemann (1826  –1866). So Definition 2 says that the definite integral of an \\nintegrable function can be approximated to within any desired degree of accuracy by a Riemann sum.\\nWe know that if \\nf happens to be positive, then the Riemann sum can be interpreted'),\n",
       " Document(id='08e680d3-9b30-4ad1-a49d-160d159d460d', metadata={'producer': 'Pdftools SDK', 'creator': 'PyPDF', 'creationdate': '', 'moddate': '2025-05-01T06:05:37+00:00', 'source': 'James Stewart - Calculus, Early Transcendentals, International Metric Edition-CENGAGE Learning (2016).pdf', 'total_pages': 1421, 'page': 1358, 'page_label': '1359'}, page_content='1056, 1058, 1059\\ncomparison properties of, 387conversion to cylindrical  \\ncoordinates, 1040\\nconversion to polar coordinates, 1012conversion to spherical  \\ncoordinates, 1046\\ndefinite, 378, 988derivative of, 394double ( see double integral)\\nevaluating, 381improper, 527indefinite, 402iterated, 993line ( see line integral)\\npatterns in, 513properties of, 385surface, 1122, 1129of symmetric functions, 417table of, 471, 503, 509, rp 6–10\\ntriple, 1029, 1030units for, 408\\nintegral calculus, 2, 3Integral Test, 721integrand, 379\\ndiscontinuous, 531\\nintegration, 379\\napproximate, 514by computer algebra system, 511of exponential functions, 383, 413formulas, 471, 503, rp 6–10\\nindefinite, 402limits of, 379numerical, 514partial, 993, 995by partial fractions, 493by parts, 472, 473, 474of a power series, 754of rational functions, 493by a rationalizing substitution, 500reversing order of, 995, 1006over a solid, 1042substitution in, 412tables, use of, 508term-by-term, 754of a vector function, 859'),\n",
       " Document(id='b23cd204-6816-4ced-bfed-b394b89e615d', metadata={'producer': 'Pdftools SDK', 'creator': 'PyPDF', 'creationdate': '', 'moddate': '2025-05-01T06:05:37+00:00', 'source': 'James Stewart - Calculus, Early Transcendentals, International Metric Edition-CENGAGE Learning (2016).pdf', 'total_pages': 1421, 'page': 1392, 'page_label': '1393'}, page_content='what are the units for the integral?\\n   y6\\n0 fsxddx represents the amount of work done. Its units are \\nnewton-meters, or joules.\\n 6. (a)  What is the average value of a function f on an  \\ninterval fa, bg?\\n   fave−1\\nb2a yb\\na fsxddx\\n  (b)  What does the Mean Value Theorem for Integrals say? What is its geometric interpretation?\\n    If f is continuous on fa, bg, then there is a number c in \\nfa, bg at which the value of f is exactly equal to the aver -\\nage value of the function, that is, fscd−fave. This means \\nthat for positive functions f, there is a number c such that \\nthe rectangle with base fa, bg and height fscd has the same \\narea as the region under the graph of f from a to b. 1. (a)  Draw two typical curves y−fsxd and y−tsxd, where \\nfsxd>tsxd for a<x<b. Show how to approximate the \\narea between these curves by a Riemann sum and sketch the corresponding approximating rectangles. Then write an expression for the exact area.\\n   bf(xi*)\\nf(xi*)-g(xi*)y=f(x)\\ny=g(x)\\n0a\\n_g(xi*)\\nxi*\\nÎxxy')]"
      ]
     },
     "execution_count": 18,
     "metadata": {},
     "output_type": "execute_result"
    }
   ],
   "execution_count": 18
  },
  {
   "metadata": {
    "ExecuteTime": {
     "end_time": "2025-05-10T06:01:43.008364Z",
     "start_time": "2025-05-10T06:01:42.985541Z"
    }
   },
   "cell_type": "code",
   "source": [
    "from langchain_community.document_loaders import DirectoryLoader\n",
    "from langchain.document_loaders import TextLoader\n",
    "\n",
    "# 1) 전체 챕터 MD 파일을 로드\n",
    "loader = DirectoryLoader(\n",
    "    path=\"chapters_md\", glob=\"*.md\", loader_cls=TextLoader\n",
    ")\n",
    "md_docs = loader.load()\n",
    "\n",
    "len(md_docs)\n",
    "md_docs[0]"
   ],
   "id": "d7aa81cd2ed5a0f7",
   "outputs": [
    {
     "data": {
      "text/plain": [
       "Document(metadata={'source': 'chapters_md\\\\Chapter 01 Functions and Models.md'}, page_content='# Chapter 01 Functions and Models\\n\\n# 함수와 역함수\\n\\n## 함수의 변환\\n\\n다음은 함수 그래프의 변환에 대한 설명입니다.  😀\\n\\n* y축 대칭: $$y = f(-x)$$\\n* x축 대칭: $$y = -f(x)$$\\n* y축 방향으로 2배 확대: $$y = 2f(x)$$\\n* y축 방향으로 1/2배 축소: $$y = \\\\frac{1}{2}f(x)$$\\n* x축 방향으로 2배 확대: $$y = f(\\\\frac{1}{2}x)$$\\n* x축 방향으로 1/2배 축소: $$y = f(2x)$$\\n\\n\\n## 일대일 함수와 역함수\\n\\n### 일대일 함수\\n\\n* **정의:** 함수 f가 일대일 함수라는 것은 서로 다른 입력값에 대해 항상 서로 다른 출력값을 갖는다는 것을 의미합니다.  즉, $$x_1 \\\\ne x_2$$ 이면 $$f(x_1) \\\\ne f(x_2)$$ 입니다. 🤔\\n* **수평선 검정:** 그래프에서 함수가 일대일 함수인지 확인하는 방법은 수평선 검정을 사용하는 것입니다.  어떤 수평선도 그래프와 두 점 이상에서 교차하지 않으면 해당 함수는 일대일 함수입니다.\\n\\n\\n### 역함수\\n\\n* **정의:**  일대일 함수 $$f$$의 정의역이 A이고 치역이 B일 때, 역함수 $$f^{-1}$$는 정의역이 B이고 치역이 A이며, 모든 $$y \\\\in B$$에 대해 $$f^{-1}(y) = x \\\\Leftrightarrow f(x) = y$$ 로 정의됩니다. 🔄\\n* **그래프:** $$f^{-1}$$의 그래프는 $$f$$의 그래프를 직선 $$y=x$$에 대해 대칭시켜 얻을 수 있습니다.\\n\\n\\n## 역삼각함수\\n\\n### 역사인 함수\\n\\n* **정의:** 역사인 함수 $$f(x) = \\\\sin^{-1}x$$ 는 $$\\\\sin y = x$$ 이고 $$-\\\\frac{\\\\pi}{2} \\\\le y \\\\le \\\\frac{\\\\pi}{2}$$ 를 만족하는 y 값으로 정의됩니다.\\n* **정의역:** $$-1 \\\\le x \\\\le 1$$\\n* **치역:** $$-\\\\frac{\\\\pi}{2} \\\\le y \\\\le \\\\frac{\\\\pi}{2}$$\\n\\n\\n### 역코사인 함수\\n\\n* **정의:** 역코사인 함수 $$f(x) = \\\\cos^{-1}x$$ 는 $$\\\\cos y = x$$ 이고 $$0 \\\\le y \\\\le \\\\pi$$ 를 만족하는 y 값으로 정의됩니다.\\n* **정의역:** $$-1 \\\\le x \\\\le 1$$\\n* **치역:** $$0 \\\\le y \\\\le \\\\pi$$\\n\\n\\n## 합성함수와 정의역\\n\\n* **합성함수의 정의:** 두 함수 f와 t의 합성함수는 $$(f \\\\circ t)(x) = f(t(x))$$ 로 정의됩니다. 📌\\n* **합성함수의 정의역:** f와 t의 합성함수의 정의역은 t의 정의역과 f의 정의역의 교집합 중에서 t(x)가 f의 정의역에 포함되는 x의 집합입니다.  즉,  $$ \\\\{ x | x \\\\in (A \\\\cap B) \\\\text{ and } t(x) \\\\in A \\\\}$$ 입니다. (A는 f의 정의역, B는 t의 정의역)\\n\\n\\n## 함수의 곱과 정의역\\n\\n* 함수 f와 t의 곱 ft의 정의역은 두 함수의 정의역의 교집합, 즉 $$A \\\\cap B$$ 입니다.\\n* 함수 f/t의 정의역은 $$A \\\\cap B$$ 에서 $$t(x) = 0$$ 인 x를 제외한 집합입니다.\\n\\n\\n# 함수와 그래프 📈\\n\\n## 역함수와 변환 🔄\\n\\n탄젠트 함수의 역함수와 그래프의 이동, 반사에 대한 설명입니다.  \\n\\n### 역 탄젠트 함수\\n\\n역 탄젠트 함수 $f(x) = \\\\tan^{-1}x$ 는 $\\\\tan y = x$ 이고 $-\\\\frac{\\\\pi}{2} < y < \\\\frac{\\\\pi}{2}$ 를 만족하는 함수로 정의됩니다. 🤔\\n\\n정의역은 모든 실수($\\\\mathbb{R}$)이고, 치역은 $-\\\\frac{\\\\pi}{2} < y < \\\\frac{\\\\pi}{2}$ 입니다.\\n\\n### 그래프 변환\\n\\n함수 $f(x)$ 의 그래프를 다음과 같이 변환할 수 있습니다.\\n\\n* 위로 2만큼 이동: $y = f(x) + 2$\\n* 아래로 2만큼 이동: $y = f(x) - 2$\\n* 오른쪽으로 2만큼 이동: $y = f(x-2)$\\n* 왼쪽으로 2만큼 이동: $y = f(x+2)$\\n* x축에 대해 반사: $y = -f(x)$\\n\\n\\n## 극한 ➡️\\n\\n함수의 극한에 대한 설명과 극한이 존재하지 않는 경우에 대한 설명입니다.\\n\\n### 극한의 의미\\n\\n* $\\\\lim_{x \\\\to a} f(x) = L$: $x$가 $a$에 한없이 가까워질 때 (단, $x \\\\ne a$), $f(x)$의 값은 $L$에 한없이 가까워진다는 의미입니다.\\n* $\\\\lim_{x \\\\to a^+} f(x) = L$: $x$가 $a$보다 큰 값을 가지면서 $a$에 한없이 가까워질 때, $f(x)$의 값은 $L$에 한없이 가까워진다는 의미입니다. (오른쪽 극한)\\n* $\\\\lim_{x \\\\to a^-} f(x) = L$: $x$가 $a$보다 작은 값을 가지면서 $a$에 한없이 가까워질 때, $f(x)$의 값은 $L$에 한없이 가까워진다는 의미입니다. (왼쪽 극한)\\n\\n\\n### 극한이 존재하지 않는 경우\\n\\n일반적으로 함수값이 특정 값으로 수렴하지 않을 때 극한이 존재하지 않습니다. 🙅\\u200d♀️  예를 들어, $x=2$에서 좌극한과 우극한이 다르거나, 무한 불연속인 경우 극한이 존재하지 않습니다.\\n\\n# 극한 (Limits)\\n\\n## 극한 법칙 (Limit Laws)\\n\\n다음 극한 법칙들을 설명합니다.  📖\\n\\n* **(a) 합의 법칙 (Sum Law)** ➕\\n    합의 극한은 극한의 합과 같습니다.\\n    $$ \\\\lim_{x \\\\to a} [f(x) + g(x)] = \\\\lim_{x \\\\to a} f(x) + \\\\lim_{x \\\\to a} g(x) $$\\n\\n* **(b) 차의 법칙 (Difference Law)** ➖\\n    차의 극한은 극한의 차와 같습니다.\\n    $$ \\\\lim_{x \\\\to a} [f(x) - g(x)] = \\\\lim_{x \\\\to a} f(x) - \\\\lim_{x \\\\to a} g(x) $$\\n\\n* **(c) 상수배 법칙 (Constant Multiple Law)** ✖️\\n    상수와 함수의 곱의 극한은 상수와 함수의 극한의 곱과 같습니다.\\n    $$ \\\\lim_{x \\\\to a} [cf(x)] = c \\\\lim_{x \\\\to a} f(x) $$\\n\\n* **(d) 곱의 법칙 (Product Law)** 📐\\n    곱의 극한은 극한의 곱과 같습니다.\\n    $$ \\\\lim_{x \\\\to a} [f(x)g(x)] = \\\\lim_{x \\\\to a} f(x) \\\\cdot \\\\lim_{x \\\\to a} g(x) $$\\n\\n* **(e) 몫의 법칙 (Quotient Law)** ➗\\n    분모의 극한이 0이 아닌 경우, 몫의 극한은 극한의 몫과 같습니다.\\n    $$ \\\\lim_{x \\\\to a} \\\\frac{f(x)}{g(x)} = \\\\frac{\\\\lim_{x \\\\to a} f(x)}{\\\\lim_{x \\\\to a} g(x)} \\\\quad \\\\text{if} \\\\quad \\\\lim_{x \\\\to a} g(x) \\\\neq 0 $$\\n\\n\\n위의 법칙들은 함수의 극한을 계산하는 데 중요한 도구입니다.  💡 각 법칙은 극한의 성질을 보여주며, 복잡한 함수의 극한을 간단한 함수의 극한으로 분해하여 계산할 수 있도록 도와줍니다. 👍')"
      ]
     },
     "execution_count": 48,
     "metadata": {},
     "output_type": "execute_result"
    }
   ],
   "execution_count": 48
  },
  {
   "metadata": {
    "ExecuteTime": {
     "end_time": "2025-05-10T06:01:44.899403Z",
     "start_time": "2025-05-10T06:01:44.887476Z"
    }
   },
   "cell_type": "code",
   "source": [
    "from langchain_text_splitters import MarkdownHeaderTextSplitter\n",
    "from langchain.text_splitter import RecursiveCharacterTextSplitter\n",
    "from langchain.docstore.document import Document\n",
    "\n",
    "\n",
    "# 2) 헤더 단위 Splitter\n",
    "markdown_splitter = MarkdownHeaderTextSplitter(\n",
    "    headers_to_split_on=[\n",
    "        (\"#\",   \"Header 1\"),   # 대제목\n",
    "        (\"##\",  \"Header 2\"),   # 소제목\n",
    "        (\"###\", \"Header 3\"),   # 소소제목\n",
    "    ],\n",
    "    strip_headers=False    # 청크에 헤더 문구를 그대로 남길지 여부\n",
    ")\n",
    "\n",
    "chunk_size = 500  # 분할된 청크의 크기를 지정합니다.\n",
    "chunk_overlap = 100  # 분할된 청크 간의 중복되는 문자 수를 지정합니다.\n",
    "text_splitter = RecursiveCharacterTextSplitter(\n",
    "    chunk_size=chunk_size, chunk_overlap=chunk_overlap\n",
    ")\n",
    "\n",
    "md_docs_split: list[Document] = []"
   ],
   "id": "5087177a0e38c911",
   "outputs": [],
   "execution_count": 49
  },
  {
   "metadata": {
    "ExecuteTime": {
     "end_time": "2025-05-10T06:01:47.170453Z",
     "start_time": "2025-05-10T06:01:47.130305Z"
    }
   },
   "cell_type": "code",
   "source": [
    "for doc in md_docs:\n",
    "    # A) 헤더 단위로 split_text → List[Document]\n",
    "    header_chunks = markdown_splitter.split_text(doc.page_content)\n",
    "    for hchunk in header_chunks:\n",
    "        # hchunk.page_content, hchunk.metadata 에 헤더 정보가 담겨 있음\n",
    "\n",
    "        # B) 해당 청크를 다시 문자 단위로 자르기 → List[str]\n",
    "        sub_texts = text_splitter.split_text(hchunk.page_content)\n",
    "        for sub in sub_texts:\n",
    "            # C) 메타데이터 합치기\n",
    "            meta = {**doc.metadata, **hchunk.metadata}\n",
    "\n",
    "            # (선택) URL 매핑: \"Chapter 05 Integrals.md\" → \"05\"\n",
    "            fname    = doc.metadata[\"source\"].split(\"/\")[-1]\n",
    "            chap_num = fname.split(\" \", 2)[1].zfill(2)\n",
    "            meta[\"url\"] = f\"https://ema.com/theory/{chap_num}\"\n",
    "\n",
    "            # D) 최종 Document 생성\n",
    "            md_docs_split.append(\n",
    "                Document(page_content=sub, metadata=meta)\n",
    "            )\n"
   ],
   "id": "2564d8429afcbcf5",
   "outputs": [],
   "execution_count": 50
  },
  {
   "metadata": {
    "ExecuteTime": {
     "end_time": "2025-05-10T06:06:28.186480Z",
     "start_time": "2025-05-10T06:06:28.169092Z"
    }
   },
   "cell_type": "code",
   "source": [
    "# 검증용 출력 코드\n",
    "\n",
    "# 전체 청크 개수 출력\n",
    "print(f\"총 분할된 청크 수: {len(md_docs_split)}\\n\")\n",
    "\n",
    "# 상위 10개 청크만 미리 보기\n",
    "for idx, doc in enumerate(md_docs_split[:10], start=1):\n",
    "    # 메타데이터에서 URL과 헤더 정보만 추출\n",
    "    url = doc.metadata.get(\"url\", \"N/A\")\n",
    "    headers = {k: v for k, v in doc.metadata.items() if k.startswith(\"Header\")}\n",
    "    preview = doc.page_content.replace(\"\\n\", \" \")[:200] + \"...\"\n",
    "\n",
    "    print(f\"--- Chunk #{idx} ---\")\n",
    "    print(f\"URL       : {url}\")\n",
    "    print(f\"Headers   : {headers}\")\n",
    "    print(f\"Preview   : {preview}\")\n",
    "    print()\n"
   ],
   "id": "b6d0463725100661",
   "outputs": [
    {
     "name": "stdout",
     "output_type": "stream",
     "text": [
      "총 분할된 청크 수: 340\n",
      "\n",
      "--- Chunk #1 ---\n",
      "URL       : https://ema.com/theory/01\n",
      "Headers   : {'Header 1': 'Chapter 01 Functions and Models'}\n",
      "Preview   : # Chapter 01 Functions and Models...\n",
      "\n",
      "--- Chunk #2 ---\n",
      "URL       : https://ema.com/theory/01\n",
      "Headers   : {'Header 1': '함수와 역함수', 'Header 2': '함수의 변환'}\n",
      "Preview   : # 함수와 역함수   ## 함수의 변환   다음은 함수 그래프의 변환에 대한 설명입니다.  😀   * y축 대칭: $$y = f(-x)$$ * x축 대칭: $$y = -f(x)$$ * y축 방향으로 2배 확대: $$y = 2f(x)$$ * y축 방향으로 1/2배 축소: $$y = \\frac{1}{2}f(x)$$ * x축 방향으로 2배 확대: $$y = f(...\n",
      "\n",
      "--- Chunk #3 ---\n",
      "URL       : https://ema.com/theory/01\n",
      "Headers   : {'Header 1': '함수와 역함수', 'Header 2': '일대일 함수와 역함수', 'Header 3': '일대일 함수'}\n",
      "Preview   : ## 일대일 함수와 역함수   ### 일대일 함수   * **정의:** 함수 f가 일대일 함수라는 것은 서로 다른 입력값에 대해 항상 서로 다른 출력값을 갖는다는 것을 의미합니다.  즉, $$x_1 \\ne x_2$$ 이면 $$f(x_1) \\ne f(x_2)$$ 입니다. 🤔 * **수평선 검정:** 그래프에서 함수가 일대일 함수인지 확인하는 방법은 수평선 검...\n",
      "\n",
      "--- Chunk #4 ---\n",
      "URL       : https://ema.com/theory/01\n",
      "Headers   : {'Header 1': '함수와 역함수', 'Header 2': '일대일 함수와 역함수', 'Header 3': '역함수'}\n",
      "Preview   : ### 역함수   * **정의:**  일대일 함수 $$f$$의 정의역이 A이고 치역이 B일 때, 역함수 $$f^{-1}$$는 정의역이 B이고 치역이 A이며, 모든 $$y \\in B$$에 대해 $$f^{-1}(y) = x \\Leftrightarrow f(x) = y$$ 로 정의됩니다. 🔄 * **그래프:** $$f^{-1}$$의 그래프는 $$f$$의 그래프를...\n",
      "\n",
      "--- Chunk #5 ---\n",
      "URL       : https://ema.com/theory/01\n",
      "Headers   : {'Header 1': '함수와 역함수', 'Header 2': '역삼각함수', 'Header 3': '역사인 함수'}\n",
      "Preview   : ## 역삼각함수   ### 역사인 함수   * **정의:** 역사인 함수 $$f(x) = \\sin^{-1}x$$ 는 $$\\sin y = x$$ 이고 $$-\\frac{\\pi}{2} \\le y \\le \\frac{\\pi}{2}$$ 를 만족하는 y 값으로 정의됩니다. * **정의역:** $$-1 \\le x \\le 1$$ * **치역:** $$-\\frac{\\pi}{...\n",
      "\n",
      "--- Chunk #6 ---\n",
      "URL       : https://ema.com/theory/01\n",
      "Headers   : {'Header 1': '함수와 역함수', 'Header 2': '역삼각함수', 'Header 3': '역코사인 함수'}\n",
      "Preview   : ### 역코사인 함수   * **정의:** 역코사인 함수 $$f(x) = \\cos^{-1}x$$ 는 $$\\cos y = x$$ 이고 $$0 \\le y \\le \\pi$$ 를 만족하는 y 값으로 정의됩니다. * **정의역:** $$-1 \\le x \\le 1$$ * **치역:** $$0 \\le y \\le \\pi$$...\n",
      "\n",
      "--- Chunk #7 ---\n",
      "URL       : https://ema.com/theory/01\n",
      "Headers   : {'Header 1': '함수와 역함수', 'Header 2': '합성함수와 정의역'}\n",
      "Preview   : ## 합성함수와 정의역   * **합성함수의 정의:** 두 함수 f와 t의 합성함수는 $$(f \\circ t)(x) = f(t(x))$$ 로 정의됩니다. 📌 * **합성함수의 정의역:** f와 t의 합성함수의 정의역은 t의 정의역과 f의 정의역의 교집합 중에서 t(x)가 f의 정의역에 포함되는 x의 집합입니다.  즉,  $$ \\{ x | x \\in (A \\...\n",
      "\n",
      "--- Chunk #8 ---\n",
      "URL       : https://ema.com/theory/01\n",
      "Headers   : {'Header 1': '함수와 역함수', 'Header 2': '함수의 곱과 정의역'}\n",
      "Preview   : ## 함수의 곱과 정의역   * 함수 f와 t의 곱 ft의 정의역은 두 함수의 정의역의 교집합, 즉 $$A \\cap B$$ 입니다. * 함수 f/t의 정의역은 $$A \\cap B$$ 에서 $$t(x) = 0$$ 인 x를 제외한 집합입니다....\n",
      "\n",
      "--- Chunk #9 ---\n",
      "URL       : https://ema.com/theory/01\n",
      "Headers   : {'Header 1': '함수와 그래프 📈', 'Header 2': '역함수와 변환 🔄'}\n",
      "Preview   : # 함수와 그래프 📈   ## 역함수와 변환 🔄   탄젠트 함수의 역함수와 그래프의 이동, 반사에 대한 설명입니다....\n",
      "\n",
      "--- Chunk #10 ---\n",
      "URL       : https://ema.com/theory/01\n",
      "Headers   : {'Header 1': '함수와 그래프 📈', 'Header 2': '역함수와 변환 🔄', 'Header 3': '역 탄젠트 함수'}\n",
      "Preview   : ### 역 탄젠트 함수   역 탄젠트 함수 $f(x) = \\tan^{-1}x$ 는 $\\tan y = x$ 이고 $-\\frac{\\pi}{2} < y < \\frac{\\pi}{2}$ 를 만족하는 함수로 정의됩니다. 🤔   정의역은 모든 실수($\\mathbb{R}$)이고, 치역은 $-\\frac{\\pi}{2} < y < \\frac{\\pi}{2}$ 입니다....\n",
      "\n"
     ]
    }
   ],
   "execution_count": 58
  },
  {
   "metadata": {
    "ExecuteTime": {
     "end_time": "2025-05-10T06:19:36.825906Z",
     "start_time": "2025-05-10T06:07:24.160802Z"
    }
   },
   "cell_type": "code",
   "source": [
    "base_embeddings = GoogleGenerativeAIEmbeddings(\n",
    "    model=\"models/gemini-embedding-exp-03-07\"\n",
    ")\n",
    "md_embedding = BatchedEmbeddings(\n",
    "    base=base_embeddings,\n",
    "    batch_size=16  # 필요에 따라 조절하세요\n",
    ")\n",
    "\n",
    "# 6. FAISS VectorStore 생성 (내부에서 batch 단위로 임베딩 처리)\n",
    "md_vectorstore = FAISS.from_documents(md_docs_split, md_embedding)\n",
    "\n",
    "# 7. Retriever 생성 및 확인\n",
    "md_retriever = md_vectorstore.as_retriever()\n",
    "print(f\"총 청크 수: {len(md_docs)}\")\n",
    "print(f\"첫 청크 미리보기:\\n{md_docs[0].page_content[:300]}\")"
   ],
   "id": "74ebde9d720d07c0",
   "outputs": [
    {
     "name": "stdout",
     "output_type": "stream",
     "text": [
      "sleep  0\n",
      "sleep  16\n",
      "sleep  32\n",
      "sleep  48\n",
      "sleep  64\n",
      "sleep  80\n",
      "sleep  96\n",
      "sleep  112\n",
      "sleep  128\n",
      "sleep  144\n",
      "sleep  160\n",
      "sleep  176\n",
      "sleep  192\n",
      "sleep  208\n",
      "sleep  224\n",
      "sleep  240\n",
      "sleep  256\n",
      "sleep  272\n",
      "sleep  288\n",
      "sleep  304\n",
      "sleep  320\n"
     ]
    },
    {
     "name": "stderr",
     "output_type": "stream",
     "text": [
      "`embedding_function` is expected to be an Embeddings object, support for passing in a function will soon be removed.\n"
     ]
    },
    {
     "name": "stdout",
     "output_type": "stream",
     "text": [
      "총 청크 수: 15\n",
      "첫 청크 미리보기:\n",
      "# Chapter 01 Functions and Models\n",
      "\n",
      "# 함수와 역함수\n",
      "\n",
      "## 함수의 변환\n",
      "\n",
      "다음은 함수 그래프의 변환에 대한 설명입니다.  😀\n",
      "\n",
      "* y축 대칭: $$y = f(-x)$$\n",
      "* x축 대칭: $$y = -f(x)$$\n",
      "* y축 방향으로 2배 확대: $$y = 2f(x)$$\n",
      "* y축 방향으로 1/2배 축소: $$y = \\frac{1}{2}f(x)$$\n",
      "* x축 방향으로 2배 확대: $$y = f(\\frac{1}{2}x)$$\n",
      "* x축 방향으로 1/2배 축소: $$y = f(2x)$$\n",
      "\n",
      "\n",
      "## 일대일 함수와 역함수\n",
      "\n",
      "#\n"
     ]
    }
   ],
   "execution_count": 59
  },
  {
   "metadata": {
    "ExecuteTime": {
     "end_time": "2025-05-10T06:19:48.936262Z",
     "start_time": "2025-05-10T06:19:48.911192Z"
    }
   },
   "cell_type": "code",
   "source": "md_vectorstore.save_local(\"md_vectorstore\")",
   "id": "760cba79dc1bd9de",
   "outputs": [],
   "execution_count": 60
  },
  {
   "metadata": {
    "ExecuteTime": {
     "end_time": "2025-05-10T06:36:00.806444Z",
     "start_time": "2025-05-10T06:35:59.537420Z"
    }
   },
   "cell_type": "code",
   "source": [
    "# 6. FAISS VectorStore 생성 (내부에서 batch 단위로 임베딩 처리)\n",
    "md_vectorstore = FAISS.load_local(\"md_vectorstore\", base_embeddings, allow_dangerous_deserialization=True)\n",
    "\n",
    "# 7. Retriever 생성 및 확인\n",
    "md_retriever = md_vectorstore.as_retriever()\n",
    "\n",
    "result = md_retriever.invoke(\"정적분이 뭐야?\")\n",
    "print(result[0].metadata[\"url\"])"
   ],
   "id": "9c29c5edcded3e2a",
   "outputs": [
    {
     "name": "stdout",
     "output_type": "stream",
     "text": [
      "https://ema.com/theory/04\n"
     ]
    }
   ],
   "execution_count": 68
  },
  {
   "metadata": {
    "ExecuteTime": {
     "end_time": "2025-05-10T07:38:17.960837Z",
     "start_time": "2025-05-10T07:38:17.947805Z"
    }
   },
   "cell_type": "code",
   "source": [
    "from langchain.tools import Tool\n",
    "def calculus_search_fn(query: str) -> list[dict]:\n",
    "    docs = calculus_retriever.get_relevant_documents(query)\n",
    "    return [\n",
    "        {\n",
    "            \"text\": doc.page_content,\n",
    "            \"chapter\": doc.metadata.get(\"Header 1\"),\n",
    "            \"section\": doc.metadata.get(\"Header 2\")\n",
    "        }\n",
    "        for doc in docs\n",
    "    ]\n",
    "\n",
    "calculus_tool = Tool.from_function(\n",
    "    calculus_search_fn,\n",
    "    name=\"calculus_search\",\n",
    "    description = (\n",
    "        \"Use this tool for semantic retrieval over the Calculus textbook, \"\n",
    "        \"optimized for scholarly and academic-level inquiries. Given a user’s \"\n",
    "        \"natural-language question about any calculus concept (e.g., definitions, \"\n",
    "        \"theorems, proofs, examples, formulas, applications), return the most \"\n",
    "        \"relevant textbook sections and excerpts along with metadata (chapter and \"\n",
    "        \"section headings) so that the agent can provide accurate, \"\n",
    "        \"context-aware, and authoritative answers.\"\n",
    "    )\n",
    ")\n",
    "# 이 도구는 미적분 교재 전체를 대상으로 학술적 수준의 심도 있는 질문에 최적화된 시맨틱 검색을 수행합니다.\n",
    "# 사용자가 미적분 개념(예: 정의, 정리, 증명, 예제, 공식, 응용 등)에 대해 자연어로 묻는 경우,\n",
    "# 챕터·단원 제목과 URL 등의 메타데이터와 함께 가장 관련성 높은 교재 발췌를 반환하여\n",
    "# 에이전트가 정확하고 맥락에 맞으며 권위 있는 답변을 제공할 수 있도록 지원합니다.\n",
    "\n",
    "def md_search_fn(query: str) -> list[dict]:\n",
    "    docs = md_retriever.get_relevant_documents(query)\n",
    "    return [\n",
    "        {\n",
    "            \"text\": doc.page_content,\n",
    "            \"chapter\": doc.metadata.get(\"Header 1\"),\n",
    "            \"section\": doc.metadata.get(\"Header 2\"),\n",
    "            \"url\": doc.metadata[\"url\"],\n",
    "        }\n",
    "        for doc in docs\n",
    "    ]\n",
    "\n",
    "md_tool = Tool.from_function(\n",
    "    md_search_fn,\n",
    "    name=\"md_search\",\n",
    "    description=(\n",
    "        \"Use this tool to semantically search the user-friendly, markdown-formatted study guide for calculus. \"\n",
    "        \"Given a natural-language question about any calculus concept, it returns the most relevant markdown summary \"\n",
    "        \"sections along with their static page URLs, enabling the agent to suggest “please check this page for more details.”\"\n",
    "    )\n",
    ")\n",
    "# 이 도구는 사용자 친화적인 Markdown 형식의 미적분 학습 가이드를 시맨틱 검색하는 데 사용됩니다.\n",
    "# 학술 수준의 질문과 보다 심도 있는 개념 이해를 지원하도록 설계되었으며, 가장 관련성 높은 간결한 설명과\n",
    "# 해당 정적 페이지 URL을 반환합니다. 에이전트는 “보다 학술적인 개요나 자세한 예시는 이 페이지를 참조하세요”\n",
    "# 라고 제안할 때 이 도구를 호출하면 됩니다."
   ],
   "id": "64e979b8ebb8f1f",
   "outputs": [],
   "execution_count": 74
  },
  {
   "metadata": {
    "ExecuteTime": {
     "end_time": "2025-05-10T06:36:08.042528Z",
     "start_time": "2025-05-10T06:36:08.035055Z"
    }
   },
   "cell_type": "code",
   "source": [
    "from langchain.tools.retriever import create_retriever_tool\n",
    "calculus_retriever_tool = create_retriever_tool(\n",
    "    calculus_retriever,\n",
    "    name = \"calculus_search\",\n",
    "    description = (\n",
    "        \"Use this tool for semantic retrieval over the Calculus textbook, \"\n",
    "        \"optimized for scholarly and academic-level inquiries. Given a user’s \"\n",
    "        \"natural-language question about any calculus concept (e.g., definitions, \"\n",
    "        \"theorems, proofs, examples, formulas, applications), return the most \"\n",
    "        \"relevant textbook sections and excerpts along with metadata (chapter and \"\n",
    "        \"section headings) so that the agent can provide accurate, \"\n",
    "        \"context-aware, and authoritative answers.\"\n",
    "    )\n",
    ")\n",
    "# 이 도구는 미적분 교재 전체를 대상으로 학술적 수준의 심도 있는 질문에 최적화된 시맨틱 검색을 수행합니다.\n",
    "# 사용자가 미적분 개념(예: 정의, 정리, 증명, 예제, 공식, 응용 등)에 대해 자연어로 묻는 경우,\n",
    "# 챕터·단원 제목과 URL 등의 메타데이터와 함께 가장 관련성 높은 교재 발췌를 반환하여\n",
    "# 에이전트가 정확하고 맥락에 맞으며 권위 있는 답변을 제공할 수 있도록 지원합니다.\n",
    "\n",
    "md_retriever_tool = create_retriever_tool(\n",
    "    md_retriever,\n",
    "    name=\"md_search\",\n",
    "    description=(\n",
    "        \"Use this tool to semantically search the user-friendly, markdown-formatted study guide for calculus. \"\n",
    "        \"Given a natural-language question about any calculus concept, it returns the most relevant markdown summary \"\n",
    "        \"sections along with their static page URLs, enabling the agent to suggest “please check this page for more details.”\"\n",
    "    )\n",
    ")\n",
    "# 이 도구는 사용자 친화적인 Markdown 형식의 미적분 학습 가이드를 시맨틱 검색하는 데 사용됩니다.\n",
    "# 학술 수준의 질문과 보다 심도 있는 개념 이해를 지원하도록 설계되었으며, 가장 관련성 높은 간결한 설명과\n",
    "# 해당 정적 페이지 URL을 반환합니다. 에이전트는 “보다 학술적인 개요나 자세한 예시는 이 페이지를 참조하세요”\n",
    "# 라고 제안할 때 이 도구를 호출하면 됩니다."
   ],
   "id": "3c24a0001789123e",
   "outputs": [],
   "execution_count": 69
  },
  {
   "metadata": {
    "ExecuteTime": {
     "end_time": "2025-05-10T07:38:49.997950Z",
     "start_time": "2025-05-10T07:38:49.984342Z"
    }
   },
   "cell_type": "code",
   "source": "tools = [calculus_tool, md_tool]",
   "id": "743b55ce4ad45326",
   "outputs": [],
   "execution_count": 75
  },
  {
   "metadata": {
    "ExecuteTime": {
     "end_time": "2025-05-10T07:39:14.315814Z",
     "start_time": "2025-05-10T07:39:14.301605Z"
    }
   },
   "cell_type": "code",
   "source": [
    "from langchain_google_genai import ChatGoogleGenerativeAI\n",
    "from langchain_core.prompts import ChatPromptTemplate\n",
    "\n",
    "# LLM 정의\n",
    "llm = ChatGoogleGenerativeAI(model=\"models/gemini-2.0-flash\", temperature=0.2)\n",
    "\n",
    "# Prompt 정의\n",
    "theory_explanation_prompt = ChatPromptTemplate.from_messages(\n",
    "    [\n",
    "        (\n",
    "            \"system\",\n",
    "            \"You are the ‘Theory Explanation Agent’, specialized in answering and explaining calculus concepts. \"\n",
    "            \"When the user asks a theoretical question about calculus, you should:\\n\"\n",
    "            \"1. Use the `calculus_search` tool to semantically retrieve authoritative passages from the Calculus textbook.\\n\"\n",
    "            \"2. Use the `md_search` tool to fetch relevant markdown-formatted study guide sections and their static page URLs.\\n\"\n",
    "            \"3. Please answer in a way that’s easy for Koreans to understand.\\n\"\n",
    "            \"Always cite the retrieved context in your explanation. If neither tool yields an answer, fall back to your internal knowledge. \"\n",
    "            \"Structure your response as a clear, scholarly explanation, and suggest the static page URL when appropriate.\"\n",
    "        ),\n",
    "        (\"human\", \"{input}\"),\n",
    "        (\"placeholder\", \"{agent_scratchpad}\"),\n",
    "    ]\n",
    ")\n",
    "\n",
    "# system:\n",
    "# “당신은 ‘이론설명 에이전트’로, 미적분 이론 질문에 답하고 개념을 설명하는 데 특화되어 있습니다.\n",
    "# 사용자가 미적분 이론에 대해 묻는 경우 다음을 수행하세요:\n",
    "# \n",
    "# calculus_search 도구를 사용해 교재에서 권위 있는 내용을 시맨틱 검색합니다.\n",
    "# \n",
    "# md_search 도구를 사용해 Markdown 형식 학습 가이드의 관련 섹션과 정적 페이지 URL을 제공합니다.\n",
    "# 검색한 컨텍스트는 설명에 반드시 인용하세요. 도구로 답을 찾지 못하면 내부 지식을 활용합니다.\n",
    "# 답변은 학술적으로 명확하게 구성하고, 필요 시 정적 페이지 URL을 제안하세요.”"
   ],
   "id": "85ae5f9f042fb9f2",
   "outputs": [],
   "execution_count": 77
  },
  {
   "metadata": {
    "ExecuteTime": {
     "end_time": "2025-05-10T07:39:17.937805Z",
     "start_time": "2025-05-10T07:39:17.903150Z"
    }
   },
   "cell_type": "code",
   "source": [
    "from langchain.agents import create_tool_calling_agent\n",
    "\n",
    "# tool calling agent 생성\n",
    "agent = create_tool_calling_agent(llm, tools, theory_explanation_prompt)\n"
   ],
   "id": "f627135931a14b4f",
   "outputs": [],
   "execution_count": 78
  },
  {
   "metadata": {
    "ExecuteTime": {
     "end_time": "2025-05-10T07:39:47.437031Z",
     "start_time": "2025-05-10T07:39:47.419890Z"
    }
   },
   "cell_type": "code",
   "source": [
    "from langchain.agents import AgentExecutor\n",
    "\n",
    "# AgentExecutor 생성\n",
    "agent_executor = AgentExecutor(agent=agent, tools=tools, verbose=False)"
   ],
   "id": "6596a56c062a5db0",
   "outputs": [],
   "execution_count": 79
  },
  {
   "metadata": {
    "ExecuteTime": {
     "end_time": "2025-05-10T08:20:01.102584Z",
     "start_time": "2025-05-10T08:20:01.096936Z"
    }
   },
   "cell_type": "code",
   "source": [
    "from langchain_teddynote.messages import AgentStreamParser\n",
    "\n",
    "# 각 단계별 출력을 위한 파서 생성\n",
    "agent_stream_parser = AgentStreamParser()"
   ],
   "id": "7b9f7bd45f5051df",
   "outputs": [],
   "execution_count": 86
  },
  {
   "metadata": {
    "ExecuteTime": {
     "end_time": "2025-05-10T08:27:50.527095Z",
     "start_time": "2025-05-10T08:27:45.885753Z"
    }
   },
   "cell_type": "code",
   "source": [
    "# 질의에 대한 답변을 스트리밍으로 출력 요청\n",
    "result = agent_executor.invoke(\n",
    "    {\"input\": \"∫xe^xdx 를 부분적분법(Integration by Parts)을 하기가 어렵네. 공부할 수 있는 페이지 있어?\"}\n",
    ")\n",
    "\n",
    "for i in result:\n",
    "    print(result[i])\n"
   ],
   "id": "9278616e913f45b9",
   "outputs": [
    {
     "name": "stdout",
     "output_type": "stream",
     "text": [
      "∫xe^xdx 를 부분적분법(Integration by Parts)을 하기가 어렵네. 공부할 수 있는 페이지 있어?\n",
      " 부분적분법은 곱의 형태로 이루어진 함수의 적분을 계산하는 데 유용한 기법입니다. (https://ema.com/theory/07)\n",
      "\n",
      "부분적분 공식은 다음과 같습니다:\n",
      "$\\\\int u dv = uv - \\\\int v du$\n",
      "\n",
      "$\\\\int xe^x dx$를 계산하기 위해, u와 dv를 선택해야 합니다. 여기서 u는 미분했을 때 더 간단해지는 함수로 선택하는 것이 좋습니다. 이 경우, x를 u로, $e^x dx$를 dv로 선택합니다.\n",
      "\n",
      "u = x, dv = $e^x dx$\n",
      "du = dx, v = $e^x$\n",
      "\n",
      "부분적분 공식에 대입하면:\n",
      "$\\\\int xe^x dx = xe^x - \\\\int e^x dx = xe^x - e^x + C$\n",
      "\n",
      "따라서, $\\\\int xe^x dx = xe^x - e^x + C$입니다.\n",
      "\n",
      "자세한 내용은 다음 페이지를 참조하십시오: https://ema.com/theory/07\n",
      "\n"
     ]
    }
   ],
   "execution_count": 100
  },
  {
   "metadata": {},
   "cell_type": "code",
   "outputs": [],
   "execution_count": null,
   "source": "",
   "id": "8e39cb1103137462"
  }
 ],
 "metadata": {
  "kernelspec": {
   "display_name": "Python (myenv)",
   "language": "python",
   "name": "myenv"
  },
  "language_info": {
   "codemirror_mode": {
    "name": "ipython",
    "version": 2
   },
   "file_extension": ".py",
   "mimetype": "text/x-python",
   "name": "python",
   "nbconvert_exporter": "python",
   "pygments_lexer": "ipython2",
   "version": "2.7.6"
  }
 },
 "nbformat": 4,
 "nbformat_minor": 5
}
